{
 "cells": [
  {
   "cell_type": "markdown",
   "id": "ae959bbf",
   "metadata": {},
   "source": [
    "# Notebook: Eliminación de anomalías y ajuste de intensidad en imágenes\n",
    "# Percepción Computacional - UNIR\n",
    "\n",
    "## 1. Importaciones y funciones auxiliares"
   ]
  },
  {
   "cell_type": "code",
   "execution_count": null,
   "id": "1f50cb33",
   "metadata": {},
   "outputs": [],
   "source": [
    "import cv2\n",
    "import numpy as np\n",
    "import os\n",
    "\n",
    "def add_salt_pepper(img, amount=0.05):\n",
    "    out = img.copy()\n",
    "    num_salt = int(np.ceil(amount * img.size * 0.5))\n",
    "    coords = [np.random.randint(0, i, num_salt) for i in img.shape]\n",
    "    out[coords[0], coords[1]] = 255\n",
    "    num_pepper = int(np.ceil(amount * img.size * 0.5))\n",
    "    coords = [np.random.randint(0, i, num_pepper) for i in img.shape]\n",
    "    out[coords[0], coords[1]] = 0\n",
    "    return out\n",
    "\n",
    "def custom_median_filter(img, ksize=3):\n",
    "    pad = ksize // 2\n",
    "    padded = np.pad(img, pad, mode='edge')\n",
    "    out = np.zeros_like(img)\n",
    "    for i in range(img.shape[0]):\n",
    "        for j in range(img.shape[1]):\n",
    "            window = padded[i:i+ksize, j:j+ksize]\n",
    "            out[i, j] = np.median(window)\n",
    "    return out\n",
    "\n",
    "def psnr(target, ref):\n",
    "    mse = np.mean((target.astype(np.float64) - ref.astype(np.float64))**2)\n",
    "    if mse == 0:\n",
    "        return float('inf')\n",
    "    PIXEL_MAX = 255.0\n",
    "    return 20 * np.log10(PIXEL_MAX / np.sqrt(mse))"
   ]
  },
  {
   "cell_type": "markdown",
   "id": "d52f3e5d",
   "metadata": {},
   "source": [
    "\n",
    "## 1.1 Tests unitarios básicos"
   ]
  },
  {
   "cell_type": "code",
   "execution_count": null,
   "id": "ca833819",
   "metadata": {},
   "outputs": [],
   "source": [
    "test_img = np.zeros((10, 10), dtype=np.uint8)\n",
    "assert psnr(test_img, test_img) == float('inf')\n",
    "ref = np.full((10, 10), 50, dtype=np.uint8)\n",
    "tgt = np.full((10, 10), 52, dtype=np.uint8)\n",
    "print(f\"PSNR test (dif 2 niveles): {psnr(tgt, ref):.2f} dB\")"
   ]
  },
  {
   "cell_type": "markdown",
   "id": "35b9dd0c",
   "metadata": {},
   "source": [
    "\n",
    "## 2. Eliminación de anomalías (ruido sal y pimienta)\n",
    "\n",
    "### 2.1 Carga y validación"
   ]
  },
  {
   "cell_type": "code",
   "execution_count": null,
   "id": "2f210640",
   "metadata": {},
   "outputs": [],
   "source": [
    "i1 = cv2.imread('/mnt/data/Cars14.png', cv2.IMREAD_GRAYSCALE)\n",
    "i2 = cv2.imread('/mnt/data/Cars37.png', cv2.IMREAD_GRAYSCALE)\n",
    "txt = lambda img,name: (_ for _ in ()).throw(ValueError(f\"No se pudo cargar {name}\")) if img is None else None\n",
    "txt(i1, 'Cars14.png')\n",
    "txt(i2, 'Cars37.png')\n",
    "noisy1 = add_salt_pepper(i1, amount=0.02)\n",
    "noisy2 = add_salt_pepper(i2, amount=0.02)"
   ]
  },
  {
   "cell_type": "markdown",
   "id": "9c839ce2",
   "metadata": {},
   "source": [
    "\n",
    "### 2.2 Aplicación de filtros"
   ]
  },
  {
   "cell_type": "code",
   "execution_count": null,
   "id": "31af3a9d",
   "metadata": {},
   "outputs": [],
   "source": [
    "den1_custom = custom_median_filter(noisy1, ksize=3)\n",
    "den2_custom = custom_median_filter(noisy2, ksize=3)\n",
    "den1_cv = cv2.medianBlur(noisy1, 3)\n",
    "den2_cv = cv2.medianBlur(noisy2, 3)"
   ]
  },
  {
   "cell_type": "markdown",
   "id": "bd97fda0",
   "metadata": {},
   "source": [
    "\n",
    "### 2.3 Medición de desempeño"
   ]
  },
  {
   "cell_type": "code",
   "execution_count": null,
   "id": "a38f9853",
   "metadata": {},
   "outputs": [],
   "source": [
    "print(\"PSNR Imagen 1 custom :\", psnr(den1_custom, i1))\n",
    "print(\"PSNR Imagen 1 OpenCV :\", psnr(den1_cv, i1))\n",
    "print(\"PSNR Imagen 2 custom :\", psnr(den2_custom, i2))\n",
    "print(\"PSNR Imagen 2 OpenCV :\", psnr(den2_cv, i2))"
   ]
  },
  {
   "cell_type": "markdown",
   "id": "f168a7ef",
   "metadata": {},
   "source": [
    "\n",
    "### 2.4 Guardado de resultados"
   ]
  },
  {
   "cell_type": "code",
   "execution_count": null,
   "id": "69ae0632",
   "metadata": {},
   "outputs": [],
   "source": [
    "output_dir = '/mnt/data/outputs/anomalias'\n",
    "os.makedirs(output_dir, exist_ok=True)\n",
    "cv2.imwrite(os.path.join(output_dir, 'i1_noisy.png'), noisy1)\n",
    "cv2.imwrite(os.path.join(output_dir, 'i1_custom.png'), den1_custom)\n",
    "cv2.imwrite(os.path.join(output_dir, 'i1_opencv.png'), den1_cv)\n",
    "cv2.imwrite(os.path.join(output_dir, 'i2_noisy.png'), noisy2)\n",
    "cv2.imwrite(os.path.join(output_dir, 'i2_custom.png'), den2_custom)\n",
    "cv2.imwrite(os.path.join(output_dir, 'i2_opencv.png'), den2_cv)\n",
    "print(f\"Resultados guardados en {output_dir}\")"
   ]
  },
  {
   "cell_type": "markdown",
   "id": "b5cbf2fc",
   "metadata": {},
   "source": [
    "\n",
    "## 3. Ajuste de intensidad (mejora de contraste)\n",
    "\n",
    "### 3.1 Carga y validación"
   ]
  },
  {
   "cell_type": "code",
   "execution_count": null,
   "id": "c00addb7",
   "metadata": {},
   "outputs": [],
   "source": [
    "i3 = cv2.imread('/mnt/data/coche02.jpeg', cv2.IMREAD_GRAYSCALE)\n",
    "i4 = cv2.imread('/mnt/data/Cars65.png', cv2.IMREAD_GRAYSCALE)\n",
    "txt(i3, 'coche02.jpeg')\n",
    "txt(i4, 'Cars65.png')"
   ]
  },
  {
   "cell_type": "markdown",
   "id": "b3137990",
   "metadata": {},
   "source": [
    "\n",
    "### 3.2 Funciones de ajuste y medida"
   ]
  },
  {
   "cell_type": "code",
   "execution_count": null,
   "id": "229a869a",
   "metadata": {},
   "outputs": [],
   "source": [
    "def contrast_stretch(img):\n",
    "    mn, mx = img.min(), img.max()\n",
    "    if mx == mn:\n",
    "        return img.copy()\n",
    "    return (((img - mn) * 255.0 / (mx - mn))).astype(np.uint8)\n",
    "\n",
    "def contrast_measure(img):\n",
    "    return float(img.std())"
   ]
  },
  {
   "cell_type": "markdown",
   "id": "9e020b03",
   "metadata": {},
   "source": [
    "\n",
    "### 3.3 Aplicación de técnicas"
   ]
  },
  {
   "cell_type": "code",
   "execution_count": null,
   "id": "d1c2998d",
   "metadata": {},
   "outputs": [],
   "source": [
    "stretch3 = contrast_stretch(i3)\n",
    "stretch4 = contrast_stretch(i4)\n",
    "eq3 = cv2.equalizeHist(i3)\n",
    "eq4 = cv2.equalizeHist(i4)"
   ]
  },
  {
   "cell_type": "markdown",
   "id": "15717dba",
   "metadata": {},
   "source": [
    "\n",
    "### 3.4 Medición de contraste"
   ]
  },
  {
   "cell_type": "code",
   "execution_count": null,
   "id": "80325782",
   "metadata": {},
   "outputs": [],
   "source": [
    "print(f\"Contraste Original 3: {contrast_measure(i3):.2f}\")\n",
    "print(f\"Contraste Stretch 3:  {contrast_measure(stretch3):.2f}\")\n",
    "print(f\"Contraste Equalize 3: {contrast_measure(eq3):.2f}\")\n",
    "print(f\"Contraste Original 4: {contrast_measure(i4):.2f}\")\n",
    "print(f\"Contraste Stretch 4:  {contrast_measure(stretch4):.2f}\")\n",
    "print(f\"Contraste Equalize 4: {contrast_measure(eq4):.2f}\")"
   ]
  },
  {
   "cell_type": "markdown",
   "id": "36ce5c45",
   "metadata": {},
   "source": [
    "\n",
    "### 3.5 Guardado de resultados"
   ]
  },
  {
   "cell_type": "code",
   "execution_count": null,
   "id": "4990972a",
   "metadata": {},
   "outputs": [],
   "source": [
    "output_dir2 = '/mnt/data/outputs/contraste'\n",
    "os.makedirs(output_dir2, exist_ok=True)\n",
    "cv2.imwrite(os.path.join(output_dir2, 'i3_original.png'), i3)\n",
    "cv2.imwrite(os.path.join(output_dir2, 'i3_stretch.png'), stretch3)\n",
    "cv2.imwrite(os.path.join(output_dir2, 'i3_eq.png'), eq3)\n",
    "cv2.imwrite(os.path.join(output_dir2, 'i4_original.png'), i4)\n",
    "cv2.imwrite(os.path.join(output_dir2, 'i4_stretch.png'), stretch4)\n",
    "cv2.imwrite(os.path.join(output_dir2, 'i4_eq.png'), eq4)\n",
    "print(f\"Resultados guardados en {output_dir2}\")"
   ]
  },
  {
   "cell_type": "markdown",
   "id": "a101855d",
   "metadata": {},
   "source": [
    "\n",
    "## 4. Conclusiones\n",
    "- **Eliminación de anomalías**: comparando PSNR, se selecciona la técnica con mayor valor.\n",
    "- **Ajuste de intensidad**: la desviación estándar indica el mejor contraste; se elige la técnica que lo maximize."
   ]
  }
 ],
 "metadata": {
  "kernelspec": {
   "display_name": "Python 3",
   "language": "python",
   "name": "python3"
  }
 },
 "nbformat": 4,
 "nbformat_minor": 5
}
