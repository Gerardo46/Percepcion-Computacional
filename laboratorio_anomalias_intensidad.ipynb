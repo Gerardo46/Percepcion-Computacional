{
 "cells": [
  {
   "cell_type": "markdown",
   "metadata": {},
   "source": [
    "# Laboratorio: Eliminación de Anomalías y Ajuste de Intensidad en Imágenes\n",
    "## Universidad Internacional de La Rioja (UNIR)\n",
    "### Alumno: (Coloca tu nombre aquí)\n",
    "---"
   ]
  },
  {
   "cell_type": "code",
   "execution_count": null,
   "metadata": {},
   "outputs": [],
   "source": [
    "# Librerías necesarias\n",
    "import cv2\n",
    "import numpy as np\n",
    "import matplotlib.pyplot as plt\n",
    "from skimage.metrics import peak_signal_noise_ratio as psnr\n",
    "from skimage.metrics import structural_similarity as ssim"
   ]
  },
  {
   "cell_type": "code",
   "execution_count": null,
   "metadata": {},
   "outputs": [],
   "source": [
    "# Función para mostrar imágenes\n",
    "def show_images(images, titles, cmap='gray'):\n",
    "    plt.figure(figsize=(15, 5))\n",
    "    for i in range(len(images)):\n",
    "        plt.subplot(1, len(images), i+1)\n",
    "        plt.imshow(images[i], cmap=cmap)\n",
    "        plt.title(titles[i])\n",
    "        plt.axis('off')\n",
    "    plt.show()"
   ]
  },
  {
   "cell_type": "code",
   "execution_count": null,
   "metadata": {},
   "outputs": [],
   "source": [
    "# Cargar imágenes\n",
    "img1 = cv2.imread('/content/Cars3.png', cv2.IMREAD_GRAYSCALE)\n",
    "img2 = cv2.imread('/content/Cars54.png', cv2.IMREAD_GRAYSCALE)\n",
    "show_images([img1, img2], ["Imagen 1", "Imagen 2"])"
   ]
  },
  {
   "cell_type": "code",
   "execution_count": null,
   "metadata": {},
   "outputs": [],
   "source": [
    "# Agregar ruido sal y pimienta\n",
    "def add_salt_pepper_noise(image, prob=0.05):\n",
    "    output = np.copy(image)\n",
    "    black = 0\n",
    "    white = 255\n",
    "    probs = np.random.rand(*image.shape)\n",
    "    output[probs < prob] = black\n",
    "    output[probs > 1 - prob] = white\n",
    "    return output\n",
    "noisy_img1 = add_salt_pepper_noise(img1)\n",
    "noisy_img2 = add_salt_pepper_noise(img2)\n",
    "show_images([noisy_img1, noisy_img2], ["Ruido SP - Img1", "Ruido SP - Img2"])"
   ]
  },
  {
   "cell_type": "code",
   "execution_count": null,
   "metadata": {},
   "outputs": [],
   "source": [
    "# Filtro personalizado\n",
    "def custom_median_filter(image, ksize=3):\n",
    "    padded = np.pad(image, ksize//2, mode='edge')\n",
    "    output = np.zeros_like(image)\n",
    "    for i in range(image.shape[0]):\n",
    "        for j in range(image.shape[1]):\n",
    "            region = padded[i:i+ksize, j:j+ksize]\n",
    "            output[i, j] = np.median(region)\n",
    "    return output\n",
    "custom_denoised1 = custom_median_filter(noisy_img1)\n",
    "custom_denoised2 = custom_median_filter(noisy_img2)\n",
    "opencv_denoised1 = cv2.medianBlur(noisy_img1, 3)\n",
    "opencv_denoised2 = cv2.medianBlur(noisy_img2, 3)\n",
    "show_images([noisy_img1, custom_denoised1, opencv_denoised1], ["Original con Ruido", "Filtro Propio", "Filtro OpenCV"])"
   ]
  },
  {
   "cell_type": "code",
   "execution_count": null,
   "metadata": {},
   "outputs": [],
   "source": [
    "# Evaluación\n",
    "def evaluate(original, restored):\n",
    "    return {\n",
    "        "PSNR": psnr(original, restored),\n",
    "        "SSIM": ssim(original, restored)\n",
    "    }\n",
    "print("Evaluación Imagen 1:")\n",
    "print("Custom:", evaluate(img1, custom_denoised1))\n",
    "print("OpenCV:", evaluate(img1, opencv_denoised1))"
   ]
  },
  {
   "cell_type": "code",
   "execution_count": null,
   "metadata": {},
   "outputs": [],
   "source": [
    "# Ajuste de contraste\n",
    "def contrast_stretching(image):\n",
    "    min_val = np.min(image)\n",
    "    max_val = np.max(image)\n",
    "    stretched = (image - min_val) * 255 / (max_val - min_val)\n",
    "    return stretched.astype(np.uint8)\n",
    "stretched1 = contrast_stretching(img1)\n",
    "stretched2 = contrast_stretching(img2)\n",
    "equalized1 = cv2.equalizeHist(img1)\n",
    "equalized2 = cv2.equalizeHist(img2)\n",
    "show_images([img1, stretched1, equalized1], ["Original", "Propio", "OpenCV"])"
   ]
  },
  {
   "cell_type": "markdown",
   "metadata": {},
   "source": [
    "## Conclusiones\n",
    "Agrega aquí tus observaciones, comparaciones y análisis final entre las técnicas propias y las de OpenCV, para ambos casos: eliminación de ruido y ajuste de contraste."
   ]
  }
 ],
 "metadata": {
  "kernelspec": {
   "display_name": "Python 3",
   "language": "python",
   "name": "python3"
  },
  "language_info": {
   "name": "python",
   "version": ""
  }
 },
 "nbformat": 4,
 "nbformat_minor": 2
}
